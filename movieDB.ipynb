{
 "cells": [
  {
   "cell_type": "code",
   "execution_count": 5,
   "metadata": {},
   "outputs": [],
   "source": [
    "import pandas as pd\n",
    "\n",
    "movieNames = pd.read_table(\"ml-100k/u.item\",names = [\"movieID\",\"title\",\"date\",\"_\",\"URL\"],\n",
    "                           usecols = [\"movieID\",\"title\",\"date\",\"_\",\"URL\"],\n",
    "                    sep =\"|\",index_col = \"movieID\", encoding = \"cp1252\")\n",
    "movieNames.drop(columns=[\"date\",\"_\"],inplace=True)"
   ]
  },
  {
   "cell_type": "code",
   "execution_count": 6,
   "metadata": {},
   "outputs": [
    {
     "name": "stdout",
     "output_type": "stream",
     "text": [
      "<class 'pandas.core.frame.DataFrame'>\n",
      "Int64Index: 1682 entries, 1 to 1682\n",
      "Data columns (total 2 columns):\n",
      "title    1682 non-null object\n",
      "URL      1679 non-null object\n",
      "dtypes: object(2)\n",
      "memory usage: 39.4+ KB\n"
     ]
    }
   ],
   "source": [
    "movieNames.info()"
   ]
  },
  {
   "cell_type": "code",
   "execution_count": 7,
   "metadata": {},
   "outputs": [],
   "source": [
    "movieNames[\"year\"] = movieNames[\"title\"].str.slice(-5,-1)\n",
    "movieNames[\"title\"] = movieNames[\"title\"].str.slice(0,-6)"
   ]
  },
  {
   "cell_type": "code",
   "execution_count": 8,
   "metadata": {},
   "outputs": [
    {
     "data": {
      "text/html": [
       "<div>\n",
       "<style scoped>\n",
       "    .dataframe tbody tr th:only-of-type {\n",
       "        vertical-align: middle;\n",
       "    }\n",
       "\n",
       "    .dataframe tbody tr th {\n",
       "        vertical-align: top;\n",
       "    }\n",
       "\n",
       "    .dataframe thead th {\n",
       "        text-align: right;\n",
       "    }\n",
       "</style>\n",
       "<table border=\"1\" class=\"dataframe\">\n",
       "  <thead>\n",
       "    <tr style=\"text-align: right;\">\n",
       "      <th></th>\n",
       "      <th>title</th>\n",
       "      <th>URL</th>\n",
       "      <th>year</th>\n",
       "    </tr>\n",
       "    <tr>\n",
       "      <th>movieID</th>\n",
       "      <th></th>\n",
       "      <th></th>\n",
       "      <th></th>\n",
       "    </tr>\n",
       "  </thead>\n",
       "  <tbody>\n",
       "    <tr>\n",
       "      <th>1</th>\n",
       "      <td>Toy Story</td>\n",
       "      <td>http://us.imdb.com/M/title-exact?Toy%20Story%2...</td>\n",
       "      <td>1995</td>\n",
       "    </tr>\n",
       "    <tr>\n",
       "      <th>2</th>\n",
       "      <td>GoldenEye</td>\n",
       "      <td>http://us.imdb.com/M/title-exact?GoldenEye%20(...</td>\n",
       "      <td>1995</td>\n",
       "    </tr>\n",
       "    <tr>\n",
       "      <th>3</th>\n",
       "      <td>Four Rooms</td>\n",
       "      <td>http://us.imdb.com/M/title-exact?Four%20Rooms%...</td>\n",
       "      <td>1995</td>\n",
       "    </tr>\n",
       "    <tr>\n",
       "      <th>4</th>\n",
       "      <td>Get Shorty</td>\n",
       "      <td>http://us.imdb.com/M/title-exact?Get%20Shorty%...</td>\n",
       "      <td>1995</td>\n",
       "    </tr>\n",
       "    <tr>\n",
       "      <th>5</th>\n",
       "      <td>Copycat</td>\n",
       "      <td>http://us.imdb.com/M/title-exact?Copycat%20(1995)</td>\n",
       "      <td>1995</td>\n",
       "    </tr>\n",
       "  </tbody>\n",
       "</table>\n",
       "</div>"
      ],
      "text/plain": [
       "               title                                                URL  year\n",
       "movieID                                                                      \n",
       "1         Toy Story   http://us.imdb.com/M/title-exact?Toy%20Story%2...  1995\n",
       "2         GoldenEye   http://us.imdb.com/M/title-exact?GoldenEye%20(...  1995\n",
       "3        Four Rooms   http://us.imdb.com/M/title-exact?Four%20Rooms%...  1995\n",
       "4        Get Shorty   http://us.imdb.com/M/title-exact?Get%20Shorty%...  1995\n",
       "5           Copycat   http://us.imdb.com/M/title-exact?Copycat%20(1995)  1995"
      ]
     },
     "execution_count": 8,
     "metadata": {},
     "output_type": "execute_result"
    }
   ],
   "source": [
    "movieNames.head()"
   ]
  },
  {
   "cell_type": "code",
   "execution_count": 1,
   "metadata": {},
   "outputs": [],
   "source": [
    "import sqlite3\n",
    "conn = sqlite3.connect('movieNames.db')"
   ]
  },
  {
   "cell_type": "code",
   "execution_count": 10,
   "metadata": {},
   "outputs": [
    {
     "data": {
      "text/plain": [
       "<sqlite3.Cursor at 0x7d04960>"
      ]
     },
     "execution_count": 10,
     "metadata": {},
     "output_type": "execute_result"
    }
   ],
   "source": [
    "conn.execute('''CREATE TABLE IF NOT EXISTS movies\n",
    "             (movieID INTEGER PRIMARY KEY, title TEXT, URL TEXT,year INTEGER)''')"
   ]
  },
  {
   "cell_type": "code",
   "execution_count": 11,
   "metadata": {},
   "outputs": [
    {
     "data": {
      "text/plain": [
       "<sqlite3.Cursor at 0x7d048f0>"
      ]
     },
     "execution_count": 11,
     "metadata": {},
     "output_type": "execute_result"
    }
   ],
   "source": [
    "# Create table\n",
    "conn.execute('''CREATE VIRTUAL TABLE IF NOT EXISTS searchableNames \n",
    "USING FTS5(title, movieID, year);''')"
   ]
  },
  {
   "cell_type": "code",
   "execution_count": 12,
   "metadata": {},
   "outputs": [],
   "source": [
    "conn.commit()"
   ]
  },
  {
   "cell_type": "code",
   "execution_count": 13,
   "metadata": {},
   "outputs": [],
   "source": [
    "for i in movieNames.itertuples(name=None):\n",
    "    #print(i)\n",
    "    conn.execute('''INSERT INTO movies(movieID,title,URL,year)\n",
    "VALUES(?,?,?,?);''',i)\n",
    "    conn.execute('''INSERT INTO searchableNames(title,movieID,year)\n",
    "VALUES(?,?,?);''',(i[1],i[0],i[3]))\n",
    "conn.commit()\n",
    "conn.close()"
   ]
  },
  {
   "cell_type": "code",
   "execution_count": 10,
   "metadata": {},
   "outputs": [
    {
     "name": "stdout",
     "output_type": "stream",
     "text": [
      "[('Pretty Woman ', 739, '1990')]\n"
     ]
    }
   ],
   "source": [
    "import sqlite3\n",
    "\n",
    "def getMovieFromFreeText(conn,text):\n",
    "    c = conn.cursor()\n",
    "    c.execute('''SELECT * \n",
    "FROM searchablenames\n",
    "WHERE searchablenames.title MATCH ? ORDER BY rank;''',(text,))\n",
    "    return c.fetchall()\n",
    "\n",
    "conn = sqlite3.connect('movieNames.db')\n",
    "print(getMovieFromFreeText(conn,\"pretty\"))\n",
    "conn.close()"
   ]
  },
  {
   "cell_type": "code",
   "execution_count": 7,
   "metadata": {},
   "outputs": [],
   "source": [
    "def getMovieFromID(conn,movieID):\n",
    "    c = conn.cursor()\n",
    "    c.execute('''SELECT * \n",
    "FROM movies\n",
    "WHERE movies.movieID=?;''',(movieID,))\n",
    "    return c.fetchone()"
   ]
  },
  {
   "cell_type": "code",
   "execution_count": 3,
   "metadata": {},
   "outputs": [
    {
     "name": "stdout",
     "output_type": "stream",
     "text": [
      "(1675, 'Sunchaser, The ', 'http://us.imdb.com/M/title-exact?Sunchaser,%20The%20(1996)', 1996)\n"
     ]
    }
   ],
   "source": [
    "import sqlite3\n",
    "\n",
    "conn = sqlite3.connect('movieNames.db')\n",
    "print(getMovieFromID(conn,1675))\n",
    "conn.close()"
   ]
  },
  {
   "cell_type": "code",
   "execution_count": 8,
   "metadata": {},
   "outputs": [],
   "source": [
    "def searchRecommendation(conn,movieID,scoreThreshold,coOccurenceThreshold):\n",
    "    c = conn.cursor()\n",
    "    c.execute('''SELECT * \n",
    "FROM moviePairs as mp\n",
    "WHERE (mp.movie1=:movieID OR mp.movie2=:movieID) AND numPairs>:coT AND score>:sT\n",
    "ORDER BY score DESC LIMIT 10;''',\n",
    "              {\"movieID\":movieID, \"coT\":coOccurenceThreshold, \"sT\":scoreThreshold })\n",
    "    return c.fetchall()"
   ]
  },
  {
   "cell_type": "code",
   "execution_count": 16,
   "metadata": {},
   "outputs": [
    {
     "name": "stdout",
     "output_type": "stream",
     "text": [
      "{'movieId': 821, 'title': 'Mrs. Winterbourne ', 'URL': 'http://us.imdb.com/M/title-exact?Mrs.%20Winterbourne%20(1996)', 'year': 1996, 'score': 0.9721551932957713, 'pairs': 16}\n",
      "{'movieId': 1119, 'title': 'Some Kind of Wonderful ', 'URL': 'http://us.imdb.com/M/title-exact?Some%20Kind%20of%20Wonderful%20(1987)', 'year': 1987, 'score': 0.9716678489901012, 'pairs': 39}\n",
      "{'movieId': 295, 'title': 'Breakdown ', 'URL': 'http://us.imdb.com/M/title-exact?Breakdown%20%281997%29', 'year': 1997, 'score': 0.9706341080758504, 'pairs': 19}\n"
     ]
    }
   ],
   "source": [
    "import sqlite3\n",
    "\n",
    "movieID = 739\n",
    "scoreThreshold = 0.97\n",
    "coOccurenceThreshold = 50\n",
    "\n",
    "conn = sqlite3.connect('movieNames.db')\n",
    "\n",
    "rec = searchRecommendation(conn,movieID,scoreThreshold,coOccurenceThreshold )\n",
    "\n",
    "for row in rec:\n",
    "    if movieID == row[0]:\n",
    "        movieRec = getMovieFromID(conn,row[1])\n",
    "    else:\n",
    "        movieRec = getMovieFromID(conn,row[0])\n",
    "    recDic = {\"movieId\":movieRec[0],\n",
    "              \"title\":movieRec[1],\n",
    "              \"URL\":movieRec[2],\n",
    "              \"year\":movieRec[3],\n",
    "              \"score\":row[3],\n",
    "              \"pairs\":row[2]\n",
    "             }\n",
    "    print(recDic)\n",
    "\n",
    "conn.close()"
   ]
  },
  {
   "cell_type": "code",
   "execution_count": null,
   "metadata": {},
   "outputs": [],
   "source": []
  }
 ],
 "metadata": {
  "kernelspec": {
   "display_name": "Python 3",
   "language": "python",
   "name": "python3"
  },
  "language_info": {
   "codemirror_mode": {
    "name": "ipython",
    "version": 3
   },
   "file_extension": ".py",
   "mimetype": "text/x-python",
   "name": "python",
   "nbconvert_exporter": "python",
   "pygments_lexer": "ipython3",
   "version": "3.6.7"
  }
 },
 "nbformat": 4,
 "nbformat_minor": 2
}
